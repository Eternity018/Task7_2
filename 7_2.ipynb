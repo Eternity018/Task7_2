{
  "nbformat": 4,
  "nbformat_minor": 0,
  "metadata": {
    "colab": {
      "provenance": [],
      "authorship_tag": "ABX9TyOKkUaNKTBXGgEVaKiLY2YU",
      "include_colab_link": true
    },
    "kernelspec": {
      "name": "python3",
      "display_name": "Python 3"
    },
    "language_info": {
      "name": "python"
    }
  },
  "cells": [
    {
      "cell_type": "markdown",
      "metadata": {
        "id": "view-in-github",
        "colab_type": "text"
      },
      "source": [
        "<a href=\"https://colab.research.google.com/github/Eternity018/Task7_2/blob/main/7_2.ipynb\" target=\"_parent\"><img src=\"https://colab.research.google.com/assets/colab-badge.svg\" alt=\"Open In Colab\"/></a>"
      ]
    },
    {
      "cell_type": "code",
      "execution_count": 1,
      "metadata": {
        "colab": {
          "base_uri": "https://localhost:8080/"
        },
        "id": "O05gfX2s593J",
        "outputId": "8e9996d5-95ae-4b8b-b605-ebaa1c9d43d3"
      },
      "outputs": [
        {
          "output_type": "stream",
          "name": "stdout",
          "text": [
            "3 a\n"
          ]
        }
      ],
      "source": [
        "def check_input(element):\n",
        "    return isinstance(element, str)\n",
        "\n",
        "def get_substring(s):\n",
        "    max_length = 0\n",
        "    result = \"\"\n",
        "    for i in range(len(s)):\n",
        "        seen = set()\n",
        "        current_string = \"\"\n",
        "        for j in range(i, len(s)):\n",
        "            if s[j] not in seen:\n",
        "                seen.add(s[j])\n",
        "                current_string += s[j]\n",
        "                if len(current_string) > max_length:\n",
        "                    max_length = len(current_string)\n",
        "                    result = current_string\n",
        "            else:\n",
        "                break\n",
        "    return result\n",
        "\n",
        "def main(lst):\n",
        "    longest_str_index = -1\n",
        "    longest_str = \"\"\n",
        "    for index, element in enumerate(lst):\n",
        "        if check_input(element) and len(element) > len(longest_str):\n",
        "            longest_str_index = index\n",
        "            longest_str = element\n",
        "\n",
        "    if longest_str_index == -1:\n",
        "        substring = \"\"\n",
        "    else:\n",
        "        substring = get_substring(longest_str)\n",
        "\n",
        "    print(longest_str_index, substring)\n",
        "\n",
        "lst = [[0, 4, 8], 'abca', 7, 'aaaaa']\n",
        "main(lst)"
      ]
    }
  ]
}